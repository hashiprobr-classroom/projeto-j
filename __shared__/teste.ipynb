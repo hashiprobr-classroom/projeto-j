# Importação das bibliotecas necessárias
import pandas as pd
import networkx as nx
import statsmodels.formula.api as smf

# Carregamento dos dados
data = pd.read_csv('Updated_Team_Performance_Data.csv')

# Construção da rede bipartida
edges = data[['Owner', 'Recipient']]
B = nx.Graph()
B.add_edges_from([(row['Owner'], row['Recipient']) for _, row in edges.iterrows()])

# Cálculo do grau dos nós e restrição usando NetworkX
data['Degree'] = data['Owner'].map(dict(B.degree()))
data['Restricao'] = data['Owner'].map(nx.constraint(B))

# Criação de variável dependente binária com base na mediana de Performance
data['HighPerformance'] = (data['Performance'] >= data['Performance'].median()).astype(int)

# Realização da regressão logística
modelo = smf.logit('HighPerformance ~ Degree + Restricao', data=data).fit()

# Impressão do resumo do modelo
print(modelo.summary())
