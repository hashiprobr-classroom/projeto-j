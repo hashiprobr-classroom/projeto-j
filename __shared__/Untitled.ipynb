{
 "cells": [
  {
   "cell_type": "code",
   "execution_count": 1,
   "id": "34653def-cb08-4c35-8ac1-5b964566f31d",
   "metadata": {
    "execution": {
     "iopub.execute_input": "2025-03-24T13:44:13.813974Z",
     "iopub.status.busy": "2025-03-24T13:44:13.812983Z",
     "iopub.status.idle": "2025-03-24T13:44:15.066333Z",
     "shell.execute_reply": "2025-03-24T13:44:15.066037Z",
     "shell.execute_reply.started": "2025-03-24T13:44:13.813927Z"
    }
   },
   "outputs": [
    {
     "data": {
      "text/html": [
       "\n",
       "    <script src=\"/static/.hidden/netpixi.min.js\"></script>\n"
      ],
      "text/plain": [
       "<IPython.core.display.HTML object>"
      ]
     },
     "metadata": {},
     "output_type": "display_data"
    }
   ],
   "source": [
    "import graph_tool_extras as gte\n",
    "import pandas as pd\n",
    "import csv\n",
    "import netpixi\n",
    "from graph_tool import draw\n",
    "from graph_tool import centrality\n",
    "import cpnet\n",
    "from itertools import combinations\n"
   ]
  },
  {
   "cell_type": "code",
   "execution_count": 2,
   "id": "f626c3c7-fa24-473d-826b-f856b8e2c053",
   "metadata": {
    "execution": {
     "iopub.execute_input": "2025-03-24T13:44:15.067160Z",
     "iopub.status.busy": "2025-03-24T13:44:15.066858Z",
     "iopub.status.idle": "2025-03-24T13:44:15.069188Z",
     "shell.execute_reply": "2025-03-24T13:44:15.068727Z",
     "shell.execute_reply.started": "2025-03-24T13:44:15.067147Z"
    }
   },
   "outputs": [],
   "source": [
    "PATH = 'sports-political-donations.csv'"
   ]
  },
  {
   "cell_type": "code",
   "execution_count": 3,
   "id": "04226a19-ee66-4ee2-9897-b7f0e5f2cd40",
   "metadata": {
    "execution": {
     "iopub.execute_input": "2025-03-24T13:44:15.069784Z",
     "iopub.status.busy": "2025-03-24T13:44:15.069658Z",
     "iopub.status.idle": "2025-03-24T13:44:15.082935Z",
     "shell.execute_reply": "2025-03-24T13:44:15.082614Z",
     "shell.execute_reply.started": "2025-03-24T13:44:15.069772Z"
    }
   },
   "outputs": [],
   "source": [
    "data = pd.read_csv(PATH)"
   ]
  },
  {
   "cell_type": "code",
   "execution_count": 4,
   "id": "21a55770-355b-463e-b1d6-149b76bb5ffd",
   "metadata": {
    "execution": {
     "iopub.execute_input": "2025-03-24T13:44:15.083794Z",
     "iopub.status.busy": "2025-03-24T13:44:15.083511Z",
     "iopub.status.idle": "2025-03-24T13:44:15.091529Z",
     "shell.execute_reply": "2025-03-24T13:44:15.090904Z",
     "shell.execute_reply.started": "2025-03-24T13:44:15.083781Z"
    }
   },
   "outputs": [
    {
     "data": {
      "text/html": [
       "<div>\n",
       "<style scoped>\n",
       "    .dataframe tbody tr th:only-of-type {\n",
       "        vertical-align: middle;\n",
       "    }\n",
       "\n",
       "    .dataframe tbody tr th {\n",
       "        vertical-align: top;\n",
       "    }\n",
       "\n",
       "    .dataframe thead th {\n",
       "        text-align: right;\n",
       "    }\n",
       "</style>\n",
       "<table border=\"1\" class=\"dataframe\">\n",
       "  <thead>\n",
       "    <tr style=\"text-align: right;\">\n",
       "      <th></th>\n",
       "      <th>Owner</th>\n",
       "      <th>Team</th>\n",
       "      <th>League</th>\n",
       "      <th>Recipient</th>\n",
       "      <th>Amount</th>\n",
       "      <th>Election Year</th>\n",
       "      <th>Party</th>\n",
       "    </tr>\n",
       "  </thead>\n",
       "  <tbody>\n",
       "    <tr>\n",
       "      <th>0</th>\n",
       "      <td>Adam Silver</td>\n",
       "      <td>Commissioner</td>\n",
       "      <td>NBA</td>\n",
       "      <td>WRIGHT 2016</td>\n",
       "      <td>$4,000</td>\n",
       "      <td>2016</td>\n",
       "      <td>Democrat</td>\n",
       "    </tr>\n",
       "    <tr>\n",
       "      <th>1</th>\n",
       "      <td>Adam Silver</td>\n",
       "      <td>Commissioner</td>\n",
       "      <td>NBA</td>\n",
       "      <td>BIDEN FOR PRESIDENT</td>\n",
       "      <td>$2,800</td>\n",
       "      <td>2020</td>\n",
       "      <td>Democrat</td>\n",
       "    </tr>\n",
       "    <tr>\n",
       "      <th>2</th>\n",
       "      <td>Adam Silver</td>\n",
       "      <td>Commissioner</td>\n",
       "      <td>NBA</td>\n",
       "      <td>CORY 2020</td>\n",
       "      <td>$2,700</td>\n",
       "      <td>2020</td>\n",
       "      <td>Democrat</td>\n",
       "    </tr>\n",
       "    <tr>\n",
       "      <th>3</th>\n",
       "      <td>Adam Silver</td>\n",
       "      <td>Commissioner</td>\n",
       "      <td>NBA</td>\n",
       "      <td>Kamala Harris for the People</td>\n",
       "      <td>$2,700</td>\n",
       "      <td>2020</td>\n",
       "      <td>Democrat</td>\n",
       "    </tr>\n",
       "    <tr>\n",
       "      <th>4</th>\n",
       "      <td>Adam Silver</td>\n",
       "      <td>Commissioner</td>\n",
       "      <td>NBA</td>\n",
       "      <td>Win The Era PAC</td>\n",
       "      <td>$2,700</td>\n",
       "      <td>2020</td>\n",
       "      <td>Democrat</td>\n",
       "    </tr>\n",
       "  </tbody>\n",
       "</table>\n",
       "</div>"
      ],
      "text/plain": [
       "         Owner          Team League                     Recipient   Amount  \\\n",
       "0  Adam Silver  Commissioner    NBA                   WRIGHT 2016  $4,000    \n",
       "1  Adam Silver  Commissioner    NBA           BIDEN FOR PRESIDENT  $2,800    \n",
       "2  Adam Silver  Commissioner    NBA                     CORY 2020  $2,700    \n",
       "3  Adam Silver  Commissioner    NBA  Kamala Harris for the People  $2,700    \n",
       "4  Adam Silver  Commissioner    NBA               Win The Era PAC  $2,700    \n",
       "\n",
       "   Election Year     Party  \n",
       "0           2016  Democrat  \n",
       "1           2020  Democrat  \n",
       "2           2020  Democrat  \n",
       "3           2020  Democrat  \n",
       "4           2020  Democrat  "
      ]
     },
     "execution_count": 4,
     "metadata": {},
     "output_type": "execute_result"
    }
   ],
   "source": [
    "data.head()\n"
   ]
  },
  {
   "cell_type": "code",
   "execution_count": 5,
   "id": "a89c917e-880a-47da-92ec-4079bc9791e8",
   "metadata": {
    "execution": {
     "iopub.execute_input": "2025-03-24T13:44:15.092174Z",
     "iopub.status.busy": "2025-03-24T13:44:15.091990Z",
     "iopub.status.idle": "2025-03-24T13:44:15.094881Z",
     "shell.execute_reply": "2025-03-24T13:44:15.094590Z",
     "shell.execute_reply.started": "2025-03-24T13:44:15.092162Z"
    }
   },
   "outputs": [],
   "source": [
    "with open(PATH) as file:\n",
    "\n",
    "    # Ignora a primeira linha, pois ela é o cabeçalho.\n",
    "    file.readline()\n",
    "\n",
    "    # Armazena as linhas seguintes como lista de strings.\n",
    "    lines = file.readlines()"
   ]
  },
  {
   "cell_type": "code",
   "execution_count": 6,
   "id": "af7de244-a2e9-4718-b5d4-9593a0f3f8da",
   "metadata": {
    "execution": {
     "iopub.execute_input": "2025-03-24T13:44:15.153625Z",
     "iopub.status.busy": "2025-03-24T13:44:15.153285Z",
     "iopub.status.idle": "2025-03-24T13:44:15.157884Z",
     "shell.execute_reply": "2025-03-24T13:44:15.157196Z",
     "shell.execute_reply.started": "2025-03-24T13:44:15.153597Z"
    }
   },
   "outputs": [
    {
     "name": "stdout",
     "output_type": "stream",
     "text": [
      "Adam Silver,Commissioner,NBA,WRIGHT 2016,\"$4,000 \",2016,Democrat\n",
      "\n",
      "Adam Silver,Commissioner,NBA,BIDEN FOR PRESIDENT,\"$2,800 \",2020,Democrat\n",
      "\n",
      "Adam Silver,Commissioner,NBA,CORY 2020,\"$2,700 \",2020,Democrat\n",
      "\n",
      "Adam Silver,Commissioner,NBA,Kamala Harris for the People,\"$2,700 \",2020,Democrat\n",
      "\n",
      "Adam Silver,Commissioner,NBA,Win The Era PAC,\"$2,700 \",2020,Democrat\n",
      "\n"
     ]
    }
   ],
   "source": [
    "for line in lines[:5]:\n",
    "    print(line)"
   ]
  },
  {
   "cell_type": "code",
   "execution_count": 7,
   "id": "7fc206a8-53b7-4f25-a4fc-d840614e63a2",
   "metadata": {
    "execution": {
     "iopub.execute_input": "2025-03-24T13:44:15.868131Z",
     "iopub.status.busy": "2025-03-24T13:44:15.866992Z",
     "iopub.status.idle": "2025-03-24T13:44:15.874215Z",
     "shell.execute_reply": "2025-03-24T13:44:15.873382Z",
     "shell.execute_reply.started": "2025-03-24T13:44:15.868087Z"
    }
   },
   "outputs": [
    {
     "name": "stdout",
     "output_type": "stream",
     "text": [
      "Commissioner WRIGHT 2016 2016\n",
      "Commissioner BIDEN FOR PRESIDENT 2020\n",
      "Commissioner CORY 2020 2020\n",
      "Commissioner Kamala Harris for the People 2020\n",
      "Commissioner Win The Era PAC 2020\n"
     ]
    }
   ],
   "source": [
    "# Para não sobrecarregar este notebook, vamos usar um\n",
    "# slice para imprimir apenas as cinco primeiras linhas.\n",
    "for line in lines[:5]:\n",
    "\n",
    "    # Separa a linha em partes, usando\n",
    "    # o caractere ',' como separador.\n",
    "    parts = line.split(',')\n",
    "\n",
    "    # Ignora o primeiro e último caracteres\n",
    "    # de cada parte, para eliminar as aspas.\n",
    "\n",
    "    # Imprime o time, a campanha e o ano da campanha\n",
    "    print(parts[1], parts[3], parts[6])"
   ]
  },
  {
   "cell_type": "code",
   "execution_count": 8,
   "id": "9dead860-5645-4226-bf9b-bedd67b20f51",
   "metadata": {
    "execution": {
     "iopub.execute_input": "2025-03-24T13:44:16.227637Z",
     "iopub.status.busy": "2025-03-24T13:44:16.226477Z",
     "iopub.status.idle": "2025-03-24T13:44:16.245658Z",
     "shell.execute_reply": "2025-03-24T13:44:16.245125Z",
     "shell.execute_reply.started": "2025-03-24T13:44:16.227570Z"
    }
   },
   "outputs": [],
   "source": [
    "with open(PATH) as file:\n",
    "    reader = csv.reader(file)\n",
    "\n",
    "    # Para não sobrecarregar este notebook, vamos usar um contador\n",
    "    # e um break para imprimir apenas as cinco primeiras linhas.\n",
    "    i = 0\n",
    "\n",
    "    # Ignora a primeira linha, pois ela é o cabeçalho.\n",
    "    next(reader)\n",
    "\n",
    "    time = []\n",
    "    campanha = []\n",
    "    dic = {}\n",
    "\n",
    "    # Lê o arquivo linha por linha, sem carregá-lo inteiro na memória.\n",
    "    for line in reader:\n",
    "\n",
    "        # Imprime o time, campanha e ano\n",
    "        time1 = line[1]\n",
    "        time.append(line[1])\n",
    "        campanha.append(line[3] + line[5])\n",
    "        campanha1 = line[3] + line[5]\n",
    "\n",
    "        if campanha1.lower() not in dic:\n",
    "            dic[campanha1.lower()] = []\n",
    "        if time not in dic[campanha1.lower()]:\n",
    "            \n",
    "            dic[campanha1.lower()].append(time1)\n",
    "\n",
    "        \n",
    "\n",
    "        \n",
    "\n",
    "        # Para não sobrecarregar este notebook, vamos usar um contador\n",
    "        # e um break para imprimir apenas as cinco primeiras linhas.\n",
    "        i += 1\n"
   ]
  },
  {
   "cell_type": "code",
   "execution_count": null,
   "id": "61396669-0054-4f9b-b558-186bb94111ee",
   "metadata": {},
   "outputs": [],
   "source": []
  },
  {
   "cell_type": "code",
   "execution_count": null,
   "id": "0add7af0-b608-491d-b343-83cb03d0f458",
   "metadata": {},
   "outputs": [],
   "source": []
  },
  {
   "cell_type": "code",
   "execution_count": 9,
   "id": "3d9d94e7-63a2-42b9-b353-78b81bd3ce64",
   "metadata": {
    "execution": {
     "iopub.execute_input": "2025-03-24T13:44:17.239519Z",
     "iopub.status.busy": "2025-03-24T13:44:17.239127Z",
     "iopub.status.idle": "2025-03-24T13:44:17.247525Z",
     "shell.execute_reply": "2025-03-24T13:44:17.246733Z",
     "shell.execute_reply.started": "2025-03-24T13:44:17.239488Z"
    }
   },
   "outputs": [],
   "source": [
    "g = gte.Graph(directed=False)\n",
    "time = list(set(time))\n",
    "for i in time:\n",
    "  g.add_vertex_by_id(i)  \n",
    "    "
   ]
  },
  {
   "cell_type": "code",
   "execution_count": 10,
   "id": "c718fd39-ccff-4d99-9320-d16e5bd4f975",
   "metadata": {
    "execution": {
     "iopub.execute_input": "2025-03-24T13:44:17.610458Z",
     "iopub.status.busy": "2025-03-24T13:44:17.609999Z",
     "iopub.status.idle": "2025-03-24T13:44:17.652177Z",
     "shell.execute_reply": "2025-03-24T13:44:17.651749Z",
     "shell.execute_reply.started": "2025-03-24T13:44:17.610424Z"
    }
   },
   "outputs": [],
   "source": [
    "for campanha, time in dic.items():\n",
    "    for i in range(len(time)):\n",
    "        for j in range(i+1, len(time)):\n",
    "            g.add_edge_by_ids(time[i], time[j])\n",
    "\n",
    "    \n",
    "       "
   ]
  },
  {
   "cell_type": "code",
   "execution_count": 11,
   "id": "09fcd04b-7eee-4a60-96bf-9b169fe54c12",
   "metadata": {
    "execution": {
     "iopub.execute_input": "2025-03-24T13:44:19.143829Z",
     "iopub.status.busy": "2025-03-24T13:44:19.143397Z",
     "iopub.status.idle": "2025-03-24T13:44:19.393823Z",
     "shell.execute_reply": "2025-03-24T13:44:19.393469Z",
     "shell.execute_reply.started": "2025-03-24T13:44:19.143795Z"
    }
   },
   "outputs": [],
   "source": [
    "layout = draw.sfdp_layout(g)\n",
    "gte.move(g, layout)\n",
    "gte.save(g, 'grafo.net.gz')\n"
   ]
  },
  {
   "cell_type": "code",
   "execution_count": 18,
   "id": "236efad5-6172-4d68-902b-eb1bf03d0529",
   "metadata": {
    "execution": {
     "iopub.execute_input": "2025-03-24T13:44:51.778411Z",
     "iopub.status.busy": "2025-03-24T13:44:51.777939Z",
     "iopub.status.idle": "2025-03-24T13:44:51.786161Z",
     "shell.execute_reply": "2025-03-24T13:44:51.785242Z",
     "shell.execute_reply.started": "2025-03-24T13:44:51.778374Z"
    }
   },
   "outputs": [
    {
     "data": {
      "text/html": [
       "\n",
       "        <div id=\"QWd2nh8dE9zPzQuhhY2bcs\"></div>\n",
       "        <script>netpixi.render('QWd2nh8dE9zPzQuhhY2bcs', '/static/__shared__/grafo.net.gz', 1.7777777777777777, true, false, false, true);</script>\n",
       "    "
      ],
      "text/plain": [
       "<IPython.core.display.HTML object>"
      ]
     },
     "metadata": {},
     "output_type": "display_data"
    }
   ],
   "source": [
    "r = netpixi.render('grafo.net.gz');"
   ]
  },
  {
   "cell_type": "code",
   "execution_count": null,
   "id": "47909ab7-437c-4a1e-b2b0-9511bc57961f",
   "metadata": {},
   "outputs": [],
   "source": []
  },
  {
   "cell_type": "code",
   "execution_count": 19,
   "id": "532eb98c-4e07-4a5a-b16e-8df5fc4de6e6",
   "metadata": {
    "execution": {
     "iopub.execute_input": "2025-03-24T13:44:52.719165Z",
     "iopub.status.busy": "2025-03-24T13:44:52.718725Z",
     "iopub.status.idle": "2025-03-24T13:44:52.725825Z",
     "shell.execute_reply": "2025-03-24T13:44:52.725114Z",
     "shell.execute_reply.started": "2025-03-24T13:44:52.719125Z"
    }
   },
   "outputs": [
    {
     "data": {
      "text/html": [
       "\n",
       "        <div id=\"6YfJhdvbXp4MkKJjqMWdf4\"></div>\n",
       "        <script>netpixi.call('6YfJhdvbXp4MkKJjqMWdf4', 'QWd2nh8dE9zPzQuhhY2bcs', 'setGraph', 'eyJ0eXBlIjogInZlcnRleCIsICJwcm9wcyI6IHsic3JjIjogImlkIiwgImRzdCI6ICJfa2V5In19Cg==');</script>\n",
       "    "
      ],
      "text/plain": [
       "<IPython.core.display.HTML object>"
      ]
     },
     "metadata": {},
     "output_type": "display_data"
    }
   ],
   "source": [
    "r.vertex_set_key('id')"
   ]
  },
  {
   "cell_type": "code",
   "execution_count": 20,
   "id": "a56acd60-935a-4e30-91e0-d8789d7b7cb1",
   "metadata": {
    "execution": {
     "iopub.execute_input": "2025-03-24T13:44:53.042290Z",
     "iopub.status.busy": "2025-03-24T13:44:53.041856Z",
     "iopub.status.idle": "2025-03-24T13:44:53.049050Z",
     "shell.execute_reply": "2025-03-24T13:44:53.047730Z",
     "shell.execute_reply.started": "2025-03-24T13:44:53.042255Z"
    }
   },
   "outputs": [
    {
     "name": "stdout",
     "output_type": "stream",
     "text": [
      "Número de vertices: 115\n",
      "Número de arestas: 4680\n"
     ]
    }
   ],
   "source": [
    "print(\"Número de vertices: {0}\".format(g.num_vertices()))\n",
    "print(\"Número de arestas: {0}\".format(g.num_edges()))\n"
   ]
  },
  {
   "cell_type": "code",
   "execution_count": 21,
   "id": "86a407cf-be1b-41f4-b917-5e6f6e0705ed",
   "metadata": {
    "execution": {
     "iopub.execute_input": "2025-03-24T13:44:53.370067Z",
     "iopub.status.busy": "2025-03-24T13:44:53.369607Z",
     "iopub.status.idle": "2025-03-24T13:44:53.377674Z",
     "shell.execute_reply": "2025-03-24T13:44:53.377188Z",
     "shell.execute_reply.started": "2025-03-24T13:44:53.370025Z"
    }
   },
   "outputs": [
    {
     "data": {
      "text/html": [
       "\n",
       "        <div id=\"DEmVf9pQM4i4d65L6ZeJHi\"></div>\n",
       "        <script>netpixi.call('DEmVf9pQM4i4d65L6ZeJHi', 'QWd2nh8dE9zPzQuhhY2bcs', 'changeGraph', 'eyJ0eXBlIjogInNldHRpbmdzIiwgInByb3BzIjogeyJ2ZXJ0ZXgiOiB7InNpemUiOiA1LCAiY29sb3IiOiAxNjc3NzIxNSwgImJ3aWR0aCI6IDEsICJiY29sb3IiOiA0MTQ0OTU5fX19Cg==');</script>\n",
       "    "
      ],
      "text/plain": [
       "<IPython.core.display.HTML object>"
      ]
     },
     "metadata": {},
     "output_type": "display_data"
    },
    {
     "data": {
      "text/html": [
       "\n",
       "        <div id=\"D6ZRfTTaLhmVaDYxEjndFY\"></div>\n",
       "        <script>netpixi.call('D6ZRfTTaLhmVaDYxEjndFY', 'QWd2nh8dE9zPzQuhhY2bcs', 'changeGraph', 'eyJ0eXBlIjogInNldHRpbmdzIiwgInByb3BzIjogeyJlZGdlIjogeyJ3aWR0aCI6IDAuMywgImNvbG9yIjogMTY3NzcyMTUsICJjdXJ2ZTEiOiAwLCAiY3VydmUyIjogMH19fQo=');</script>\n",
       "    "
      ],
      "text/plain": [
       "<IPython.core.display.HTML object>"
      ]
     },
     "metadata": {},
     "output_type": "display_data"
    }
   ],
   "source": [
    "r.vertex_default(\n",
    "    size=5,         # tamanho            (padrão: 16)\n",
    "    color=0xffffff,  # cor                (padrão: 0xffffff)\n",
    "    bwidth=1,        # espessura da borda (padrão: 2)\n",
    "    bcolor=0x3f3f3f, # cor da borda       (padrão: 0x3f3f3f)\n",
    ")\n",
    "\n",
    "r.edge_default(\n",
    "    width=0.3,        # espessura         (padrão: 2)\n",
    "    color=0xffffff, # cor               (padrão: 0xffffff)\n",
    "    curve1=0,       # curvatura inicial (padrão: 0)\n",
    "    curve2=0,       # curvatura final   (padrão: 0)\n",
    ")"
   ]
  },
  {
   "cell_type": "code",
   "execution_count": 34,
   "id": "879e8136-41ce-4811-a29f-a709377f3750",
   "metadata": {
    "execution": {
     "iopub.execute_input": "2025-03-24T13:48:43.431953Z",
     "iopub.status.busy": "2025-03-24T13:48:43.431487Z",
     "iopub.status.idle": "2025-03-24T13:48:43.616351Z",
     "shell.execute_reply": "2025-03-24T13:48:43.616013Z",
     "shell.execute_reply.started": "2025-03-24T13:48:43.431915Z"
    }
   },
   "outputs": [
    {
     "data": {
      "text/html": [
       "\n",
       "        <div id=\"TmmbKzQbL7GnU8eunSyudz\"></div>\n",
       "        <script>netpixi.render('TmmbKzQbL7GnU8eunSyudz', '/static/__shared__/degree.net.gz', 1.7777777777777777, true, false, false, true);</script>\n",
       "    "
      ],
      "text/plain": [
       "<IPython.core.display.HTML object>"
      ]
     },
     "metadata": {},
     "output_type": "display_data"
    }
   ],
   "source": [
    "g = gte.load('grafo.net.gz')\n",
    "\n",
    "c = gte.total_degree(g)\n",
    "\n",
    "g.add_vp('degree', c)\n",
    "\n",
    "gte.save(g, 'degree.net.gz')\n",
    "\n",
    "r = netpixi.render('degree.net.gz')\n"
   ]
  },
  {
   "cell_type": "code",
   "execution_count": 35,
   "id": "c3a61f48-f279-4f7b-9991-a8af448cdce5",
   "metadata": {
    "execution": {
     "iopub.execute_input": "2025-03-24T13:48:44.790638Z",
     "iopub.status.busy": "2025-03-24T13:48:44.790197Z",
     "iopub.status.idle": "2025-03-24T13:48:44.796723Z",
     "shell.execute_reply": "2025-03-24T13:48:44.796422Z",
     "shell.execute_reply.started": "2025-03-24T13:48:44.790595Z"
    }
   },
   "outputs": [
    {
     "data": {
      "text/html": [
       "\n",
       "        <div id=\"3QQRZxehpeny4HdZJFk4d7\"></div>\n",
       "        <script>netpixi.call('3QQRZxehpeny4HdZJFk4d7', 'TmmbKzQbL7GnU8eunSyudz', 'normalizeGraph', 'eyJ0eXBlIjogInZlcnRleCIsICJwcm9wcyI6IHsic3JjIjogImRlZ3JlZSIsICJtaW4iOiAxMCwgIm1heCI6IDMwfX0K');</script>\n",
       "    "
      ],
      "text/plain": [
       "<IPython.core.display.HTML object>"
      ]
     },
     "metadata": {},
     "output_type": "display_data"
    },
    {
     "name": "stdout",
     "output_type": "stream",
     "text": [
      "Os 5 vértices mais influentes:\n",
      "Vértice 6 - Nome: Cleveland Browns - Degree: 3.543859649122807\n",
      "Vértice 96 - Nome: Tampa Bay Buccaneers - Degree: 3.3859649122807016\n",
      "Vértice 114 - Nome: San Francisco Giants - Degree: 3.2280701754385963\n",
      "Vértice 98 - Nome: Philadelphia 76ers, New Jersey Devils - Degree: 3.0701754385964914\n",
      "Vértice 16 - Nome: Cincinnati Reds - Degree: 3.06140350877193\n"
     ]
    }
   ],
   "source": [
    "r.vertex_scale('degree', 10, 30)\n",
    "import numpy as np\n",
    "\n",
    "top5_indices = np.argsort(c.a)[-5:][::-1]\n",
    "\n",
    "print(\"Os 5 vértices mais influentes:\")\n",
    "for idx in top5_indices:\n",
    "    vertice = g.vertex(idx)\n",
    "    nome_vertice = g.vp['id'][vertice]\n",
    "    print(f\"Vértice {idx} - Nome: {nome_vertice} - Degree: {c.a[idx]}\")"
   ]
  },
  {
   "cell_type": "code",
   "execution_count": 24,
   "id": "4a4dc4d1-a787-49ab-b0f1-ccb85ead1d2d",
   "metadata": {
    "execution": {
     "iopub.execute_input": "2025-03-24T13:44:55.962015Z",
     "iopub.status.busy": "2025-03-24T13:44:55.961375Z",
     "iopub.status.idle": "2025-03-24T13:44:55.970592Z",
     "shell.execute_reply": "2025-03-24T13:44:55.969905Z",
     "shell.execute_reply.started": "2025-03-24T13:44:55.961944Z"
    }
   },
   "outputs": [
    {
     "data": {
      "text/html": [
       "\n",
       "        <div id=\"9JAFeYuWB34DWJwvHskLm3\"></div>\n",
       "        <script>netpixi.call('9JAFeYuWB34DWJwvHskLm3', 'QWd2nh8dE9zPzQuhhY2bcs', 'changeGraph', 'eyJ0eXBlIjogInNldHRpbmdzIiwgInByb3BzIjogeyJlZGdlIjogeyJ3aWR0aCI6IDAuMywgImNvbG9yIjogMTY3NzcyMTUsICJjdXJ2ZTEiOiAwLCAiY3VydmUyIjogMH19fQo=');</script>\n",
       "    "
      ],
      "text/plain": [
       "<IPython.core.display.HTML object>"
      ]
     },
     "metadata": {},
     "output_type": "display_data"
    }
   ],
   "source": [
    "r.edge_default(\n",
    "    width=0.3,        # espessura         (padrão: 2)\n",
    "    color=0xffffff, # cor               (padrão: 0xffffff)\n",
    "    curve1=0,       # curvatura inicial (padrão: 0)\n",
    "    curve2=0,       # curvatura final   (padrão: 0)\n",
    ")"
   ]
  },
  {
   "cell_type": "code",
   "execution_count": 36,
   "id": "93b1a418-f07c-407b-8b20-50dbe0784f30",
   "metadata": {
    "execution": {
     "iopub.execute_input": "2025-03-24T13:49:18.038922Z",
     "iopub.status.busy": "2025-03-24T13:49:18.038480Z",
     "iopub.status.idle": "2025-03-24T13:49:18.214908Z",
     "shell.execute_reply": "2025-03-24T13:49:18.214596Z",
     "shell.execute_reply.started": "2025-03-24T13:49:18.038887Z"
    }
   },
   "outputs": [
    {
     "data": {
      "text/html": [
       "\n",
       "        <div id=\"bfHMyN5gGenMkhVDK68EEB\"></div>\n",
       "        <script>netpixi.render('bfHMyN5gGenMkhVDK68EEB', '/static/__shared__/betweenness.net.gz', 1.7777777777777777, true, false, false, true);</script>\n",
       "    "
      ],
      "text/plain": [
       "<IPython.core.display.HTML object>"
      ]
     },
     "metadata": {},
     "output_type": "display_data"
    }
   ],
   "source": [
    "g = gte.load('grafo.net.gz')\n",
    "\n",
    "# Na verdade, o método devolve duas propriedades,\n",
    "# mas estamos interessados apenas na primeira.\n",
    "c, _ = centrality.betweenness(g)\n",
    "\n",
    "g.add_vp('betweenness', c)\n",
    "\n",
    "gte.save(g, 'betweenness.net.gz')\n",
    "\n",
    "r = netpixi.render('betweenness.net.gz')"
   ]
  },
  {
   "cell_type": "code",
   "execution_count": 38,
   "id": "e95737e4-811f-4f0e-9f5b-ae770303a0de",
   "metadata": {
    "execution": {
     "iopub.execute_input": "2025-03-24T13:49:24.700695Z",
     "iopub.status.busy": "2025-03-24T13:49:24.700152Z",
     "iopub.status.idle": "2025-03-24T13:49:24.708683Z",
     "shell.execute_reply": "2025-03-24T13:49:24.708290Z",
     "shell.execute_reply.started": "2025-03-24T13:49:24.700640Z"
    }
   },
   "outputs": [
    {
     "data": {
      "text/html": [
       "\n",
       "        <div id=\"L3DRbQni2RW9q4PLErsGbw\"></div>\n",
       "        <script>netpixi.call('L3DRbQni2RW9q4PLErsGbw', 'bfHMyN5gGenMkhVDK68EEB', 'normalizeGraph', 'eyJ0eXBlIjogInZlcnRleCIsICJwcm9wcyI6IHsic3JjIjogImJldHdlZW5uZXNzIiwgIm1pbiI6IDEwLCAibWF4IjogMzB9fQo=');</script>\n",
       "    "
      ],
      "text/plain": [
       "<IPython.core.display.HTML object>"
      ]
     },
     "metadata": {},
     "output_type": "display_data"
    },
    {
     "name": "stdout",
     "output_type": "stream",
     "text": [
      "Os 5 vértices mais influentes:\n",
      "Vértice 6 - Nome: Cleveland Browns - Betweenness: 0.08683552566408971\n",
      "Vértice 98 - Nome: Philadelphia 76ers, New Jersey Devils - Betweenness: 0.038726992503803764\n",
      "Vértice 114 - Nome: San Francisco Giants - Betweenness: 0.03842967893276129\n",
      "Vértice 96 - Nome: Tampa Bay Buccaneers - Betweenness: 0.037638645829266563\n",
      "Vértice 16 - Nome: Cincinnati Reds - Betweenness: 0.03614719946811784\n"
     ]
    }
   ],
   "source": [
    "r.vertex_scale('betweenness', 10, 30)\n",
    "import numpy as np\n",
    "top5_indices = np.argsort(c.a)[-5:][::-1]\n",
    "\n",
    "print(\"Os 5 vértices mais influentes:\")\n",
    "for idx in top5_indices:\n",
    "    vertice = g.vertex(idx)\n",
    "    nome_vertice = g.vp['id'][vertice]\n",
    "    print(f\"Vértice {idx} - Nome: {nome_vertice} - Betweenness: {c.a[idx]}\")"
   ]
  },
  {
   "cell_type": "code",
   "execution_count": 39,
   "id": "292af73c-f674-488d-b16a-26c5ae2c49a7",
   "metadata": {
    "execution": {
     "iopub.execute_input": "2025-03-24T13:49:37.192716Z",
     "iopub.status.busy": "2025-03-24T13:49:37.192287Z",
     "iopub.status.idle": "2025-03-24T13:49:37.349348Z",
     "shell.execute_reply": "2025-03-24T13:49:37.348996Z",
     "shell.execute_reply.started": "2025-03-24T13:49:37.192681Z"
    }
   },
   "outputs": [
    {
     "data": {
      "text/html": [
       "\n",
       "        <div id=\"VFaWRs3kpqyg9a935gDXaZ\"></div>\n",
       "        <script>netpixi.render('VFaWRs3kpqyg9a935gDXaZ', '/static/__shared__/closeness.net.gz', 1.7777777777777777, true, false, false, true);</script>\n",
       "    "
      ],
      "text/plain": [
       "<IPython.core.display.HTML object>"
      ]
     },
     "metadata": {},
     "output_type": "display_data"
    }
   ],
   "source": [
    "g = gte.load('grafo.net.gz')\n",
    "\n",
    "# O parâmetro harmonic=True é necessário para garantir\n",
    "# que a fórmula seja exatamente a definida acima.\n",
    "c = centrality.closeness(g, harmonic=True)\n",
    "\n",
    "g.add_vp('closeness', c)\n",
    "\n",
    "gte.save(g, 'closeness.net.gz')\n",
    "\n",
    "r = netpixi.render('closeness.net.gz')\n",
    "\n"
   ]
  },
  {
   "cell_type": "code",
   "execution_count": 40,
   "id": "942d98c9-5e1f-46ad-ad1a-a664e68a9def",
   "metadata": {
    "execution": {
     "iopub.execute_input": "2025-03-24T13:49:42.745517Z",
     "iopub.status.busy": "2025-03-24T13:49:42.745249Z",
     "iopub.status.idle": "2025-03-24T13:49:42.749794Z",
     "shell.execute_reply": "2025-03-24T13:49:42.749328Z",
     "shell.execute_reply.started": "2025-03-24T13:49:42.745500Z"
    }
   },
   "outputs": [
    {
     "data": {
      "text/html": [
       "\n",
       "        <div id=\"jCBMnnmdnN8GYbmv73fmcF\"></div>\n",
       "        <script>netpixi.call('jCBMnnmdnN8GYbmv73fmcF', 'VFaWRs3kpqyg9a935gDXaZ', 'normalizeGraph', 'eyJ0eXBlIjogInZlcnRleCIsICJwcm9wcyI6IHsic3JjIjogImNsb3NlbmVzcyIsICJtaW4iOiAxMCwgIm1heCI6IDMwfX0K');</script>\n",
       "    "
      ],
      "text/plain": [
       "<IPython.core.display.HTML object>"
      ]
     },
     "metadata": {},
     "output_type": "display_data"
    },
    {
     "name": "stdout",
     "output_type": "stream",
     "text": [
      "Os 5 vértices mais influentes:\n",
      "Vértice 6 - Nome: Cleveland Browns - Closeness: 0.8245614035087719\n",
      "Vértice 98 - Nome: Philadelphia 76ers, New Jersey Devils - Closeness: 0.7763157894736842\n",
      "Vértice 59 - Nome: Chicago Cubs - Closeness: 0.7675438596491229\n",
      "Vértice 108 - Nome: Portland Trail Blazers, Seattle Seahawks - Closeness: 0.7573099415204678\n",
      "Vértice 15 - Nome: Miami Heat - Closeness: 0.7543859649122807\n"
     ]
    }
   ],
   "source": [
    "r.vertex_scale('closeness', 10, 30)\n",
    "import numpy as np\n",
    "\n",
    "# Ordena os índices dos vértices de acordo com a centralidade closeness (maior para menor)\n",
    "top5_indices = np.argsort(c.a)[-5:][::-1]\n",
    "\n",
    "print(\"Os 5 vértices mais influentes:\")\n",
    "for idx in top5_indices:\n",
    "    vertice = g.vertex(idx)\n",
    "    nome_vertice = g.vp['id'][vertice]\n",
    "    print(f\"Vértice {idx} - Nome: {nome_vertice} - Closeness: {c.a[idx]}\")\n"
   ]
  },
  {
   "cell_type": "code",
   "execution_count": null,
   "id": "393d5198-6336-4571-8c86-bf0e4cca9813",
   "metadata": {},
   "outputs": [],
   "source": []
  },
  {
   "cell_type": "code",
   "execution_count": 41,
   "id": "ff1f59cb-8ac2-44a3-a9cb-25659dc1e1a7",
   "metadata": {
    "execution": {
     "iopub.execute_input": "2025-03-24T13:52:51.540028Z",
     "iopub.status.busy": "2025-03-24T13:52:51.539522Z",
     "iopub.status.idle": "2025-03-24T13:52:54.349511Z",
     "shell.execute_reply": "2025-03-24T13:52:54.349185Z",
     "shell.execute_reply.started": "2025-03-24T13:52:51.539981Z"
    }
   },
   "outputs": [
    {
     "data": {
      "text/html": [
       "\n",
       "        <div id=\"3x8fgsUvWPNHqMDHnX8aGy\"></div>\n",
       "        <script>netpixi.render('3x8fgsUvWPNHqMDHnX8aGy', '/static/__shared__/structural_holes.net.gz', 1.7777777777777777, true, false, false, true);</script>\n",
       "    "
      ],
      "text/plain": [
       "<IPython.core.display.HTML object>"
      ]
     },
     "metadata": {},
     "output_type": "display_data"
    }
   ],
   "source": [
    "g = gte.load('grafo.net.gz')\n",
    "\n",
    "c = gte.burt_constraint(g)\n",
    "\n",
    "g.add_vp('burt_constraint', c)\n",
    "\n",
    "gte.save(g, 'structural_holes.net.gz')\n",
    "\n",
    "r = netpixi.render('structural_holes.net.gz')"
   ]
  },
  {
   "cell_type": "code",
   "execution_count": 42,
   "id": "f7c3bd3e-141d-47ef-8b40-9301796184fd",
   "metadata": {
    "execution": {
     "iopub.execute_input": "2025-03-24T13:52:54.350171Z",
     "iopub.status.busy": "2025-03-24T13:52:54.350020Z",
     "iopub.status.idle": "2025-03-24T13:52:54.354388Z",
     "shell.execute_reply": "2025-03-24T13:52:54.353856Z",
     "shell.execute_reply.started": "2025-03-24T13:52:54.350160Z"
    }
   },
   "outputs": [
    {
     "data": {
      "text/html": [
       "\n",
       "        <div id=\"CjuJGaZQt3w8BtmCtzsXYR\"></div>\n",
       "        <script>netpixi.call('CjuJGaZQt3w8BtmCtzsXYR', '3x8fgsUvWPNHqMDHnX8aGy', 'normalizeGraph', 'eyJ0eXBlIjogInZlcnRleCIsICJwcm9wcyI6IHsic3JjIjogImJ1cnRfY29uc3RyYWludCIsICJtaW4iOiAxMCwgIm1heCI6IDMwfX0K');</script>\n",
       "    "
      ],
      "text/plain": [
       "<IPython.core.display.HTML object>"
      ]
     },
     "metadata": {},
     "output_type": "display_data"
    },
    {
     "name": "stdout",
     "output_type": "stream",
     "text": [
      "Os 5 vértices mais influentes:\n",
      "Vértice 14 - Nome: New York Mets - Centralidade: 4.605875848849776\n",
      "Vértice 16 - Nome: Cincinnati Reds - Centralidade: 3.531905691028808\n",
      "Vértice 96 - Nome: Tampa Bay Buccaneers - Centralidade: 3.480369407167658\n",
      "Vértice 54 - Nome: Orlando Magic - Centralidade: 3.1258806485996073\n",
      "Vértice 37 - Nome: St. Louis Cardinals - Centralidade: 2.909919415373493\n"
     ]
    }
   ],
   "source": [
    "r.vertex_scale('burt_constraint', 10, 30)\n",
    "\n",
    "import numpy as np\n",
    "\n",
    "top5_indices = np.argsort(c.a)[-5:][::-1]\n",
    "\n",
    "print(\"Os 5 vértices mais influentes:\")\n",
    "for idx in top5_indices:\n",
    "    vertice = g.vertex(idx)\n",
    "    nome_vertice = g.vp['id'][vertice]\n",
    "    print(f\"Vértice {idx} - Nome: {nome_vertice} - Centralidade: {c.a[idx]}\")\n"
   ]
  },
  {
   "cell_type": "code",
   "execution_count": 66,
   "id": "41490864-d8fc-45bb-844e-a0cd54ae51c0",
   "metadata": {
    "execution": {
     "iopub.execute_input": "2025-03-19T14:14:46.766419Z",
     "iopub.status.busy": "2025-03-19T14:14:46.765686Z",
     "iopub.status.idle": "2025-03-19T14:14:46.861888Z",
     "shell.execute_reply": "2025-03-19T14:14:46.861462Z",
     "shell.execute_reply.started": "2025-03-19T14:14:46.766376Z"
    }
   },
   "outputs": [
    {
     "data": {
      "text/plain": [
       "\"c, l = gte.coreness(g, cpnet.Surprise)\\n\\ng.add_converted_vp('color', c, lambda coreness: 0x00ff00 if round(coreness) == 1 else 0xff0000)\\n\\ngte.save(g, 'coreness.net.gz')\\n\\nnetpixi.render('coreness.net.gz');\""
      ]
     },
     "execution_count": 66,
     "metadata": {},
     "output_type": "execute_result"
    }
   ],
   "source": [
    "g = gte.load('grafo.net.gz')\n",
    "\n",
    "\"\"\"c, l = gte.coreness(g, cpnet.Surprise)\n",
    "\n",
    "g.add_converted_vp('color', c, lambda coreness: 0x00ff00 if round(coreness) == 1 else 0xff0000)\n",
    "\n",
    "gte.save(g, 'coreness.net.gz')\n",
    "\n",
    "netpixi.render('coreness.net.gz');\"\"\""
   ]
  },
  {
   "cell_type": "code",
   "execution_count": 64,
   "id": "73ace2b8-f943-4f21-91f0-9fba1a9017d1",
   "metadata": {
    "execution": {
     "iopub.execute_input": "2025-03-19T14:11:11.669077Z",
     "iopub.status.busy": "2025-03-19T14:11:11.668086Z",
     "iopub.status.idle": "2025-03-19T14:11:11.674915Z",
     "shell.execute_reply": "2025-03-19T14:11:11.673873Z",
     "shell.execute_reply.started": "2025-03-19T14:11:11.669031Z"
    }
   },
   "outputs": [
    {
     "name": "stdout",
     "output_type": "stream",
     "text": [
      "1.0\n",
      "0.0\n",
      "0.0\n",
      "0.0\n",
      "0.0\n"
     ]
    }
   ],
   "source": [
    "for i in range(5):\n",
    "    print(c[i])"
   ]
  },
  {
   "cell_type": "code",
   "execution_count": 65,
   "id": "b31a48b2-a704-4f1b-b332-903edfcad31c",
   "metadata": {
    "execution": {
     "iopub.execute_input": "2025-03-19T14:11:19.715249Z",
     "iopub.status.busy": "2025-03-19T14:11:19.714799Z",
     "iopub.status.idle": "2025-03-19T14:11:19.719802Z",
     "shell.execute_reply": "2025-03-19T14:11:19.719195Z",
     "shell.execute_reply.started": "2025-03-19T14:11:19.715216Z"
    }
   },
   "outputs": [
    {
     "name": "stdout",
     "output_type": "stream",
     "text": [
      "0\n",
      "0\n",
      "0\n",
      "0\n",
      "0\n"
     ]
    }
   ],
   "source": [
    "for i in range(5):\n",
    "    print(l[i])"
   ]
  },
  {
   "cell_type": "code",
   "execution_count": 87,
   "id": "05800512-b869-44ea-ba12-8c0eff29c7a0",
   "metadata": {
    "execution": {
     "iopub.execute_input": "2025-03-19T14:29:47.126429Z",
     "iopub.status.busy": "2025-03-19T14:29:47.125695Z",
     "iopub.status.idle": "2025-03-19T14:29:47.138189Z",
     "shell.execute_reply": "2025-03-19T14:29:47.136173Z",
     "shell.execute_reply.started": "2025-03-19T14:29:47.126370Z"
    }
   },
   "outputs": [
    {
     "data": {
      "text/plain": [
       "\"c, l = gte.coreness(g, cpnet.Rombach)\\n\\nfor i in range(5):\\n    print(c[i])\\n\\ng.add_vp('coreness', c)\\n\\ngte.save(g, 'coreness.net.gz')\\n\\nr = netpixi.render('coreness.net.gz')\""
      ]
     },
     "execution_count": 87,
     "metadata": {},
     "output_type": "execute_result"
    }
   ],
   "source": [
    "\"\"\"c, l = gte.coreness(g, cpnet.Rombach)\n",
    "\n",
    "for i in range(5):\n",
    "    print(c[i])\n",
    "\n",
    "g.add_vp('coreness', c)\n",
    "\n",
    "gte.save(g, 'coreness.net.gz')\n",
    "\n",
    "r = netpixi.render('coreness.net.gz')\"\"\"\n",
    "\n"
   ]
  },
  {
   "cell_type": "code",
   "execution_count": 86,
   "id": "dc9a6b80-8c05-49b7-ac7b-257f1a4fad23",
   "metadata": {
    "execution": {
     "iopub.execute_input": "2025-03-19T14:29:05.137305Z",
     "iopub.status.busy": "2025-03-19T14:29:05.136911Z",
     "iopub.status.idle": "2025-03-19T14:29:05.143389Z",
     "shell.execute_reply": "2025-03-19T14:29:05.142836Z",
     "shell.execute_reply.started": "2025-03-19T14:29:05.137258Z"
    }
   },
   "outputs": [
    {
     "data": {
      "text/html": [
       "\n",
       "        <div id=\"KmYJoKbPgZgGTjmHLDYH25\"></div>\n",
       "        <script>netpixi.call('KmYJoKbPgZgGTjmHLDYH25', 'SXtsNa8toeVZfWCweMZWV9', 'normalizeGraph', 'eyJ0eXBlIjogInZlcnRleCIsICJwcm9wcyI6IHsic3JjIjogImNvcmVuZXNzIiwgIm1pbiI6IDUsICJtYXgiOiA1MH19Cg==');</script>\n",
       "    "
      ],
      "text/plain": [
       "<IPython.core.display.HTML object>"
      ]
     },
     "metadata": {},
     "output_type": "display_data"
    },
    {
     "data": {
      "text/html": [
       "\n",
       "        <div id=\"knQ5MhPJeNpCXPaaAGd3Nu\"></div>\n",
       "        <script>netpixi.call('knQ5MhPJeNpCXPaaAGd3Nu', 'SXtsNa8toeVZfWCweMZWV9', 'setGraph', 'eyJ0eXBlIjogInZlcnRleCIsICJwcm9wcyI6IHsic3JjIjogImlkIiwgImRzdCI6ICJfa2V5In19Cg==');</script>\n",
       "    "
      ],
      "text/plain": [
       "<IPython.core.display.HTML object>"
      ]
     },
     "metadata": {},
     "output_type": "display_data"
    }
   ],
   "source": [
    "r.vertex_scale('coreness', 5, 50)\n",
    "r.vertex_set_key('id')"
   ]
  },
  {
   "cell_type": "code",
   "execution_count": 73,
   "id": "574c404b-fa59-4028-a798-dd7cbc220477",
   "metadata": {
    "execution": {
     "iopub.execute_input": "2025-03-19T14:17:16.203519Z",
     "iopub.status.busy": "2025-03-19T14:17:16.203072Z",
     "iopub.status.idle": "2025-03-19T14:17:19.316664Z",
     "shell.execute_reply": "2025-03-19T14:17:19.316052Z",
     "shell.execute_reply.started": "2025-03-19T14:17:16.203484Z"
    }
   },
   "outputs": [],
   "source": [
    "# Constrói um novo grafo.\n",
    "from random import random\n",
    "g = gte.Graph()\n",
    "\n",
    "# Adiciona mil vértices ao grafo.\n",
    "for id in range(1000):\n",
    "    g.add_vertex_by_id(id)\n",
    "\n",
    "# Para cada par de vértices...\n",
    "for u, v in combinations(g.vertices(), 2):\n",
    "\n",
    "    # ...com probabilidade de 50%...\n",
    "    if random() < 0.5:\n",
    "\n",
    "        # ...adiciona uma aresta entre eles.\n",
    "        g.add_edge_by_ids(u.id(), v.id())\n",
    "\n"
   ]
  },
  {
   "cell_type": "code",
   "execution_count": 74,
   "id": "0e58144f-00ed-49fb-8581-79a962deb4be",
   "metadata": {
    "execution": {
     "iopub.execute_input": "2025-03-19T14:17:19.317542Z",
     "iopub.status.busy": "2025-03-19T14:17:19.317361Z",
     "iopub.status.idle": "2025-03-19T14:17:19.320457Z",
     "shell.execute_reply": "2025-03-19T14:17:19.320044Z",
     "shell.execute_reply.started": "2025-03-19T14:17:19.317527Z"
    }
   },
   "outputs": [],
   "source": [
    "degrees = g.get_total_degrees()"
   ]
  },
  {
   "cell_type": "code",
   "execution_count": 75,
   "id": "eb5be77a-0876-41e2-a57f-a94616838a5e",
   "metadata": {
    "execution": {
     "iopub.execute_input": "2025-03-19T14:17:25.674845Z",
     "iopub.status.busy": "2025-03-19T14:17:25.674416Z",
     "iopub.status.idle": "2025-03-19T14:17:25.688615Z",
     "shell.execute_reply": "2025-03-19T14:17:25.688281Z",
     "shell.execute_reply.started": "2025-03-19T14:17:25.674809Z"
    }
   },
   "outputs": [
    {
     "data": {
      "text/plain": [
       "count    1000.000000\n",
       "mean      499.172000\n",
       "std        16.025643\n",
       "min       442.000000\n",
       "25%       489.000000\n",
       "50%       499.000000\n",
       "75%       510.000000\n",
       "max       549.000000\n",
       "dtype: float64"
      ]
     },
     "execution_count": 75,
     "metadata": {},
     "output_type": "execute_result"
    }
   ],
   "source": [
    "degrees.describe()"
   ]
  },
  {
   "cell_type": "code",
   "execution_count": 76,
   "id": "bf3538fa-b612-44cd-a44a-3b2a4ec95cc9",
   "metadata": {
    "execution": {
     "iopub.execute_input": "2025-03-19T14:17:31.596126Z",
     "iopub.status.busy": "2025-03-19T14:17:31.595697Z",
     "iopub.status.idle": "2025-03-19T14:17:31.731935Z",
     "shell.execute_reply": "2025-03-19T14:17:31.731247Z",
     "shell.execute_reply.started": "2025-03-19T14:17:31.596091Z"
    }
   },
   "outputs": [
    {
     "data": {
      "image/png": "[encoded data removed]",
      "text/plain": [
       "<Figure size 640x480 with 1 Axes>"
      ]
     },
     "metadata": {},
     "output_type": "display_data"
    }
   ],
   "source": [
    "degrees.hist();"
   ]
  },
  {
   "cell_type": "code",
   "execution_count": 78,
   "id": "9868ff68-f7c4-4209-8556-13cd01b00ad6",
   "metadata": {
    "execution": {
     "iopub.execute_input": "2025-03-19T14:17:54.931333Z",
     "iopub.status.busy": "2025-03-19T14:17:54.930881Z",
     "iopub.status.idle": "2025-03-19T14:17:54.947311Z",
     "shell.execute_reply": "2025-03-19T14:17:54.946826Z",
     "shell.execute_reply.started": "2025-03-19T14:17:54.931293Z"
    }
   },
   "outputs": [
    {
     "data": {
      "text/plain": [
       "np.float64(0.18697106669382257)"
      ]
     },
     "execution_count": 78,
     "metadata": {},
     "output_type": "execute_result"
    }
   ],
   "source": [
    "import distribution as dst\n",
    "dst.not_normal(degrees)"
   ]
  },
  {
   "cell_type": "code",
   "execution_count": 79,
   "id": "6f072cd7-8aa1-4ce7-b6c2-d80c3056ed7c",
   "metadata": {
    "execution": {
     "iopub.execute_input": "2025-03-19T14:18:07.166784Z",
     "iopub.status.busy": "2025-03-19T14:18:07.166148Z",
     "iopub.status.idle": "2025-03-19T14:18:07.175185Z",
     "shell.execute_reply": "2025-03-19T14:18:07.174442Z",
     "shell.execute_reply.started": "2025-03-19T14:18:07.166727Z"
    }
   },
   "outputs": [
    {
     "data": {
      "text/html": [
       "\n",
       "        <div id=\"b7RiFbiySuMvp8oTEzezey\"></div>\n",
       "        <script>netpixi.render('b7RiFbiySuMvp8oTEzezey', '/static/__shared__/grafo.net.gz', 1.7777777777777777, true, false, false, true);</script>\n",
       "    "
      ],
      "text/plain": [
       "<IPython.core.display.HTML object>"
      ]
     },
     "metadata": {},
     "output_type": "display_data"
    }
   ],
   "source": [
    "netpixi.render('grafo.net.gz');"
   ]
  },
  {
   "cell_type": "code",
   "execution_count": 80,
   "id": "d1b97a51-1128-4d26-a11d-7cc94f153201",
   "metadata": {
    "execution": {
     "iopub.execute_input": "2025-03-19T14:18:24.782715Z",
     "iopub.status.busy": "2025-03-19T14:18:24.782142Z",
     "iopub.status.idle": "2025-03-19T14:18:25.055255Z",
     "shell.execute_reply": "2025-03-19T14:18:25.054466Z",
     "shell.execute_reply.started": "2025-03-19T14:18:24.782675Z"
    }
   },
   "outputs": [
    {
     "data": {
      "image/png": "[encoded data removed]",
      "text/plain": [
       "<Figure size 640x480 with 1 Axes>"
      ]
     },
     "metadata": {},
     "output_type": "display_data"
    }
   ],
   "source": [
    "g = gte.load('grafo.net.gz')\n",
    "\n",
    "degrees = g.get_total_degrees()\n",
    "\n",
    "degrees.hist();"
   ]
  },
  {
   "cell_type": "code",
   "execution_count": 81,
   "id": "a2410f2e-d86f-43ba-86d6-dbab5f3e1e3e",
   "metadata": {
    "execution": {
     "iopub.execute_input": "2025-03-19T14:18:33.423077Z",
     "iopub.status.busy": "2025-03-19T14:18:33.422561Z",
     "iopub.status.idle": "2025-03-19T14:18:33.431083Z",
     "shell.execute_reply": "2025-03-19T14:18:33.430524Z",
     "shell.execute_reply.started": "2025-03-19T14:18:33.423040Z"
    }
   },
   "outputs": [
    {
     "data": {
      "text/plain": [
       "np.float64(2.8200608227901915e-12)"
      ]
     },
     "execution_count": 81,
     "metadata": {},
     "output_type": "execute_result"
    }
   ],
   "source": [
    "dst.not_normal(degrees)"
   ]
  },
  {
   "cell_type": "code",
   "execution_count": 82,
   "id": "c98f997a-ed2f-4f7c-b713-d3cef07bfe43",
   "metadata": {
    "execution": {
     "iopub.execute_input": "2025-03-19T14:18:42.157079Z",
     "iopub.status.busy": "2025-03-19T14:18:42.156670Z",
     "iopub.status.idle": "2025-03-19T14:18:42.237649Z",
     "shell.execute_reply": "2025-03-19T14:18:42.236407Z",
     "shell.execute_reply.started": "2025-03-19T14:18:42.157044Z"
    }
   },
   "outputs": [
    {
     "name": "stderr",
     "output_type": "stream",
     "text": [
      "Values less than or equal to 0 in data. Throwing out 0 or negative values\n",
      "Calculating best minimal value for power law fit\n",
      "/opt/miniconda/envs/jupyterlab/lib/python3.13/site-packages/powerlaw.py:699: RuntimeWarning: invalid value encountered in divide\n",
      "  (CDF_diff**2) /\n"
     ]
    },
    {
     "data": {
      "text/plain": [
       "(np.False_, np.float64(0.1533236504431097))"
      ]
     },
     "execution_count": 82,
     "metadata": {},
     "output_type": "execute_result"
    }
   ],
   "source": [
    "dst.more_powerlaw_than_lognormal(degrees)"
   ]
  },
  {
   "cell_type": "code",
   "execution_count": 83,
   "id": "8f990d97-a8be-4c1d-8fbf-242524b23bf1",
   "metadata": {
    "execution": {
     "iopub.execute_input": "2025-03-19T14:18:57.627404Z",
     "iopub.status.busy": "2025-03-19T14:18:57.626356Z",
     "iopub.status.idle": "2025-03-19T14:18:57.648476Z",
     "shell.execute_reply": "2025-03-19T14:18:57.648057Z",
     "shell.execute_reply.started": "2025-03-19T14:18:57.627338Z"
    }
   },
   "outputs": [
    {
     "name": "stderr",
     "output_type": "stream",
     "text": [
      "Values less than or equal to 0 in data. Throwing out 0 or negative values\n",
      "Calculating best minimal value for power law fit\n"
     ]
    },
    {
     "data": {
      "text/plain": [
       "(np.False_, np.float64(0.2697506540685165))"
      ]
     },
     "execution_count": 83,
     "metadata": {},
     "output_type": "execute_result"
    }
   ],
   "source": [
    "dst.more_powerlaw_than_exponential(degrees)"
   ]
  },
  {
   "cell_type": "code",
   "execution_count": null,
   "id": "2f735e8b-8497-4297-aea7-a14f6b0f6dae",
   "metadata": {},
   "outputs": [],
   "source": []
  }
 ],
 "metadata": {
  "kernelspec": {
   "display_name": "Python 3 (ipykernel)",
   "language": "python",
   "name": "python3"
  },
  "language_info": {
   "codemirror_mode": {
    "name": "ipython",
    "version": 3
   },
   "file_extension": ".py",
   "mimetype": "text/x-python",
   "name": "python",
   "nbconvert_exporter": "python",
   "pygments_lexer": "ipython3",
   "version": "3.13.1"
  }
 },
 "nbformat": 4,
 "nbformat_minor": 5
}
